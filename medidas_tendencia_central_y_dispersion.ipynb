{
 "cells": [
  {
   "cell_type": "code",
   "execution_count": 2,
   "metadata": {},
   "outputs": [
    {
     "data": {
      "text/html": [
       "<div>\n",
       "<style scoped>\n",
       "    .dataframe tbody tr th:only-of-type {\n",
       "        vertical-align: middle;\n",
       "    }\n",
       "\n",
       "    .dataframe tbody tr th {\n",
       "        vertical-align: top;\n",
       "    }\n",
       "\n",
       "    .dataframe thead th {\n",
       "        text-align: right;\n",
       "    }\n",
       "</style>\n",
       "<table border=\"1\" class=\"dataframe\">\n",
       "  <thead>\n",
       "    <tr style=\"text-align: right;\">\n",
       "      <th></th>\n",
       "      <th>Videojuego</th>\n",
       "      <th>Consola</th>\n",
       "      <th>Año</th>\n",
       "      <th>Puntuación</th>\n",
       "    </tr>\n",
       "  </thead>\n",
       "  <tbody>\n",
       "    <tr>\n",
       "      <th>0</th>\n",
       "      <td>Mass Effect 2</td>\n",
       "      <td>Xbox 360</td>\n",
       "      <td>2010</td>\n",
       "      <td>96</td>\n",
       "    </tr>\n",
       "    <tr>\n",
       "      <th>1</th>\n",
       "      <td>Pac-Man Championship Edition DX</td>\n",
       "      <td>Xbox 360</td>\n",
       "      <td>2010</td>\n",
       "      <td>93</td>\n",
       "    </tr>\n",
       "    <tr>\n",
       "      <th>2</th>\n",
       "      <td>Red Dead Redemption</td>\n",
       "      <td>Xbox 360</td>\n",
       "      <td>2010</td>\n",
       "      <td>95</td>\n",
       "    </tr>\n",
       "    <tr>\n",
       "      <th>3</th>\n",
       "      <td>Rock Band 3</td>\n",
       "      <td>Xbox 360</td>\n",
       "      <td>2010</td>\n",
       "      <td>93</td>\n",
       "    </tr>\n",
       "    <tr>\n",
       "      <th>4</th>\n",
       "      <td>Starcraft II: Wings of Liberty</td>\n",
       "      <td>PC</td>\n",
       "      <td>2010</td>\n",
       "      <td>93</td>\n",
       "    </tr>\n",
       "    <tr>\n",
       "      <th>5</th>\n",
       "      <td>Super Mario Galaxy 2</td>\n",
       "      <td>Wii</td>\n",
       "      <td>2010</td>\n",
       "      <td>97</td>\n",
       "    </tr>\n",
       "    <tr>\n",
       "      <th>6</th>\n",
       "      <td>Batman: Arkham City</td>\n",
       "      <td>Xbox 360</td>\n",
       "      <td>2011</td>\n",
       "      <td>94</td>\n",
       "    </tr>\n",
       "    <tr>\n",
       "      <th>7</th>\n",
       "      <td>Portal 2</td>\n",
       "      <td>Xbox 360</td>\n",
       "      <td>2011</td>\n",
       "      <td>95</td>\n",
       "    </tr>\n",
       "    <tr>\n",
       "      <th>8</th>\n",
       "      <td>The Elder Scrolls V: Skyrim</td>\n",
       "      <td>Xbox 360</td>\n",
       "      <td>2011</td>\n",
       "      <td>96</td>\n",
       "    </tr>\n",
       "    <tr>\n",
       "      <th>9</th>\n",
       "      <td>The Legend of Zelda: Ocarina of Time 3D</td>\n",
       "      <td>3DS</td>\n",
       "      <td>2011</td>\n",
       "      <td>94</td>\n",
       "    </tr>\n",
       "    <tr>\n",
       "      <th>10</th>\n",
       "      <td>The Legend of Zelda: Skyward Sword</td>\n",
       "      <td>Wii</td>\n",
       "      <td>2011</td>\n",
       "      <td>93</td>\n",
       "    </tr>\n",
       "    <tr>\n",
       "      <th>11</th>\n",
       "      <td>Mass Effect 3</td>\n",
       "      <td>Xbox 360</td>\n",
       "      <td>2012</td>\n",
       "      <td>93</td>\n",
       "    </tr>\n",
       "    <tr>\n",
       "      <th>12</th>\n",
       "      <td>Persona 4 Golden</td>\n",
       "      <td>PS Vita</td>\n",
       "      <td>2012</td>\n",
       "      <td>93</td>\n",
       "    </tr>\n",
       "    <tr>\n",
       "      <th>13</th>\n",
       "      <td>BioShock Infinite</td>\n",
       "      <td>PC</td>\n",
       "      <td>2013</td>\n",
       "      <td>94</td>\n",
       "    </tr>\n",
       "    <tr>\n",
       "      <th>14</th>\n",
       "      <td>Super Mario 3D World</td>\n",
       "      <td>Wii U</td>\n",
       "      <td>2013</td>\n",
       "      <td>93</td>\n",
       "    </tr>\n",
       "    <tr>\n",
       "      <th>15</th>\n",
       "      <td>The Last of Us</td>\n",
       "      <td>PS3</td>\n",
       "      <td>2013</td>\n",
       "      <td>95</td>\n",
       "    </tr>\n",
       "    <tr>\n",
       "      <th>16</th>\n",
       "      <td>Grand Theft Auto V</td>\n",
       "      <td>PS4</td>\n",
       "      <td>2014</td>\n",
       "      <td>97</td>\n",
       "    </tr>\n",
       "    <tr>\n",
       "      <th>17</th>\n",
       "      <td>The Last of Us Remastered</td>\n",
       "      <td>PS4</td>\n",
       "      <td>2014</td>\n",
       "      <td>95</td>\n",
       "    </tr>\n",
       "    <tr>\n",
       "      <th>18</th>\n",
       "      <td>Metal Gear Solid V: The Phantom Pain</td>\n",
       "      <td>PS4</td>\n",
       "      <td>2015</td>\n",
       "      <td>93</td>\n",
       "    </tr>\n",
       "    <tr>\n",
       "      <th>19</th>\n",
       "      <td>Divinity: Original Sin II</td>\n",
       "      <td>PC</td>\n",
       "      <td>2017</td>\n",
       "      <td>93</td>\n",
       "    </tr>\n",
       "    <tr>\n",
       "      <th>20</th>\n",
       "      <td>Persona 5</td>\n",
       "      <td>PS4</td>\n",
       "      <td>2017</td>\n",
       "      <td>93</td>\n",
       "    </tr>\n",
       "    <tr>\n",
       "      <th>21</th>\n",
       "      <td>Super Mario Odyssey</td>\n",
       "      <td>Switch</td>\n",
       "      <td>2017</td>\n",
       "      <td>97</td>\n",
       "    </tr>\n",
       "    <tr>\n",
       "      <th>22</th>\n",
       "      <td>The Legend of Zelda: Breath of the Wild</td>\n",
       "      <td>Switch</td>\n",
       "      <td>2017</td>\n",
       "      <td>97</td>\n",
       "    </tr>\n",
       "    <tr>\n",
       "      <th>23</th>\n",
       "      <td>God of War</td>\n",
       "      <td>PS4</td>\n",
       "      <td>2018</td>\n",
       "      <td>94</td>\n",
       "    </tr>\n",
       "    <tr>\n",
       "      <th>24</th>\n",
       "      <td>Red Dead Redemption 2</td>\n",
       "      <td>PS4</td>\n",
       "      <td>2018</td>\n",
       "      <td>97</td>\n",
       "    </tr>\n",
       "  </tbody>\n",
       "</table>\n",
       "</div>"
      ],
      "text/plain": [
       "                                 Videojuego   Consola   Año  Puntuación\n",
       "0                             Mass Effect 2  Xbox 360  2010          96\n",
       "1           Pac-Man Championship Edition DX  Xbox 360  2010          93\n",
       "2                       Red Dead Redemption  Xbox 360  2010          95\n",
       "3                               Rock Band 3  Xbox 360  2010          93\n",
       "4            Starcraft II: Wings of Liberty        PC  2010          93\n",
       "5                      Super Mario Galaxy 2       Wii  2010          97\n",
       "6                       Batman: Arkham City  Xbox 360  2011          94\n",
       "7                                  Portal 2  Xbox 360  2011          95\n",
       "8               The Elder Scrolls V: Skyrim  Xbox 360  2011          96\n",
       "9   The Legend of Zelda: Ocarina of Time 3D       3DS  2011          94\n",
       "10       The Legend of Zelda: Skyward Sword       Wii  2011          93\n",
       "11                            Mass Effect 3  Xbox 360  2012          93\n",
       "12                         Persona 4 Golden   PS Vita  2012          93\n",
       "13                        BioShock Infinite        PC  2013          94\n",
       "14                     Super Mario 3D World     Wii U  2013          93\n",
       "15                           The Last of Us       PS3  2013          95\n",
       "16                       Grand Theft Auto V       PS4  2014          97\n",
       "17                The Last of Us Remastered       PS4  2014          95\n",
       "18     Metal Gear Solid V: The Phantom Pain       PS4  2015          93\n",
       "19                Divinity: Original Sin II        PC  2017          93\n",
       "20                                Persona 5       PS4  2017          93\n",
       "21                      Super Mario Odyssey    Switch  2017          97\n",
       "22  The Legend of Zelda: Breath of the Wild    Switch  2017          97\n",
       "23                               God of War       PS4  2018          94\n",
       "24                    Red Dead Redemption 2       PS4  2018          97"
      ]
     },
     "execution_count": 2,
     "metadata": {},
     "output_type": "execute_result"
    }
   ],
   "source": [
    "import pandas as pd\n",
    "import numpy as np\n",
    "\n",
    "datos=pd.read_excel('metacritic.xlsx')\n",
    "tabla=pd.DataFrame(data=datos)\n",
    "datos"
   ]
  },
  {
   "cell_type": "code",
   "execution_count": 3,
   "metadata": {},
   "outputs": [
    {
     "data": {
      "text/plain": [
       "np.float64(2013.0)"
      ]
     },
     "execution_count": 3,
     "metadata": {},
     "output_type": "execute_result"
    }
   ],
   "source": [
    "media=np.mean(datos['Año'])\n",
    "media"
   ]
  },
  {
   "cell_type": "code",
   "execution_count": 4,
   "metadata": {},
   "outputs": [
    {
     "data": {
      "text/plain": [
       "np.float64(2012.0)"
      ]
     },
     "execution_count": 4,
     "metadata": {},
     "output_type": "execute_result"
    }
   ],
   "source": [
    "mediana=np.median(datos['Año'])\n",
    "mediana"
   ]
  },
  {
   "cell_type": "code",
   "execution_count": 5,
   "metadata": {},
   "outputs": [
    {
     "data": {
      "text/plain": [
       "np.int64(6)"
      ]
     },
     "execution_count": 5,
     "metadata": {},
     "output_type": "execute_result"
    }
   ],
   "source": [
    "moda=tabla['Año'].value_counts()\n",
    "moda.max()"
   ]
  },
  {
   "cell_type": "code",
   "execution_count": 6,
   "metadata": {},
   "outputs": [
    {
     "data": {
      "text/plain": [
       "8"
      ]
     },
     "execution_count": 6,
     "metadata": {},
     "output_type": "execute_result"
    }
   ],
   "source": [
    "rango=max(datos['Año'])-min(datos['Año'])\n",
    "rango"
   ]
  },
  {
   "cell_type": "code",
   "execution_count": 7,
   "metadata": {},
   "outputs": [
    {
     "data": {
      "text/plain": [
       "np.float64(4.0)"
      ]
     },
     "execution_count": 7,
     "metadata": {},
     "output_type": "execute_result"
    }
   ],
   "source": [
    "'''\n",
    "impar: \n",
    "     data=[1,2,3,4,5,6,7,8,9]\n",
    "     vector1=[1,2,3,4,5]\n",
    "     vector2=[5,6,7,8,9]\n",
    "\n",
    "     iqr=median(vector2)-median(vector1)\n",
    "\n",
    "par:\n",
    "     data=[1,2,3,4,5,6,7,8,9,10]\n",
    "     vector1=[1,2,3,4,5]\n",
    "     vector2=[6,7,8,9,10]\n",
    "'''\n",
    "\n",
    "rango_intercuartilico=np.percentile(datos['Año'],75)-np.percentile(datos['Año'],25)\n",
    "rango_intercuartilico"
   ]
  }
 ],
 "metadata": {
  "kernelspec": {
   "display_name": "Python 3",
   "language": "python",
   "name": "python3"
  },
  "language_info": {
   "codemirror_mode": {
    "name": "ipython",
    "version": 3
   },
   "file_extension": ".py",
   "mimetype": "text/x-python",
   "name": "python",
   "nbconvert_exporter": "python",
   "pygments_lexer": "ipython3",
   "version": "3.12.6"
  }
 },
 "nbformat": 4,
 "nbformat_minor": 2
}
